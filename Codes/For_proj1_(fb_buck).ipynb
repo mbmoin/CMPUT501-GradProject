{
  "nbformat": 4,
  "nbformat_minor": 0,
  "metadata": {
    "colab": {
      "name": "SQ proj1 (Apr_20).ipynb",
      "provenance": [],
      "collapsed_sections": []
    },
    "kernelspec": {
      "display_name": "Python 3",
      "language": "python",
      "name": "python3"
    },
    "language_info": {
      "codemirror_mode": {
        "name": "ipython",
        "version": 3
      },
      "file_extension": ".py",
      "mimetype": "text/x-python",
      "name": "python",
      "nbconvert_exporter": "python",
      "pygments_lexer": "ipython3",
      "version": "3.6.7"
    }
  },
  "cells": [
    {
      "cell_type": "code",
      "metadata": {
        "id": "k4YnPhgOgnqd"
      },
      "source": [
        "import numpy as np\n",
        "import pandas as pd\n",
        "import seaborn as sns\n",
        "\n",
        "from sklearn import model_selection, preprocessing\n",
        "from sklearn.preprocessing import OrdinalEncoder\n",
        "\n",
        "from sklearn.model_selection import train_test_split\n",
        "\n",
        "from sklearn import svm \n",
        "from sklearn.naive_bayes import GaussianNB\n",
        "from sklearn.ensemble import RandomForestClassifier\n",
        "from sklearn.linear_model import LogisticRegression\n",
        "\n",
        "import matplotlib.pyplot as plt\n",
        "from sklearn.metrics import roc_auc_score\n",
        "from sklearn.model_selection import cross_val_score\n",
        "from sklearn.metrics import classification_report\n",
        "from sklearn.metrics import confusion_matrix\n",
        "from sklearn.metrics import accuracy_score"
      ],
      "execution_count": 51,
      "outputs": []
    },
    {
      "cell_type": "code",
      "metadata": {
        "colab": {
          "base_uri": "https://localhost:8080/",
          "height": 202
        },
        "id": "i7idQPxvifmM",
        "outputId": "13d4bb43-d81e-436c-d85c-f1200798a04b"
      },
      "source": [
        "dt = pd.read_csv('facebook@buck.csv')\n",
        "\n",
        "dt.head()\n"
      ],
      "execution_count": 52,
      "outputs": [
        {
          "output_type": "execute_result",
          "data": {
            "text/html": [
              "<div>\n",
              "<style scoped>\n",
              "    .dataframe tbody tr th:only-of-type {\n",
              "        vertical-align: middle;\n",
              "    }\n",
              "\n",
              "    .dataframe tbody tr th {\n",
              "        vertical-align: top;\n",
              "    }\n",
              "\n",
              "    .dataframe thead th {\n",
              "        text-align: right;\n",
              "    }\n",
              "</style>\n",
              "<table border=\"1\" class=\"dataframe\">\n",
              "  <thead>\n",
              "    <tr style=\"text-align: right;\">\n",
              "      <th></th>\n",
              "      <th>travisJobId</th>\n",
              "      <th>testName</th>\n",
              "      <th>index</th>\n",
              "      <th>duration</th>\n",
              "      <th>count</th>\n",
              "      <th>failures</th>\n",
              "      <th>errors</th>\n",
              "      <th>skipped</th>\n",
              "    </tr>\n",
              "  </thead>\n",
              "  <tbody>\n",
              "    <tr>\n",
              "      <th>0</th>\n",
              "      <td>155318303</td>\n",
              "      <td>//scripts:diff_rulekeys_test</td>\n",
              "      <td>0</td>\n",
              "      <td>0</td>\n",
              "      <td>12</td>\n",
              "      <td>0</td>\n",
              "      <td>0</td>\n",
              "      <td>0</td>\n",
              "    </tr>\n",
              "    <tr>\n",
              "      <th>1</th>\n",
              "      <td>155318303</td>\n",
              "      <td>//py/buck/zip:test</td>\n",
              "      <td>1</td>\n",
              "      <td>0</td>\n",
              "      <td>2</td>\n",
              "      <td>0</td>\n",
              "      <td>0</td>\n",
              "      <td>0</td>\n",
              "    </tr>\n",
              "    <tr>\n",
              "      <th>2</th>\n",
              "      <td>155318303</td>\n",
              "      <td>//programs:test</td>\n",
              "      <td>2</td>\n",
              "      <td>0</td>\n",
              "      <td>9</td>\n",
              "      <td>0</td>\n",
              "      <td>0</td>\n",
              "      <td>0</td>\n",
              "    </tr>\n",
              "    <tr>\n",
              "      <th>3</th>\n",
              "      <td>155318303</td>\n",
              "      <td>//src/com/facebook/buck/apple/project_generato...</td>\n",
              "      <td>3</td>\n",
              "      <td>0</td>\n",
              "      <td>3</td>\n",
              "      <td>0</td>\n",
              "      <td>0</td>\n",
              "      <td>0</td>\n",
              "    </tr>\n",
              "    <tr>\n",
              "      <th>4</th>\n",
              "      <td>155318303</td>\n",
              "      <td>//src/com/facebook/buck/apple/project_generato...</td>\n",
              "      <td>4</td>\n",
              "      <td>0</td>\n",
              "      <td>5</td>\n",
              "      <td>0</td>\n",
              "      <td>0</td>\n",
              "      <td>0</td>\n",
              "    </tr>\n",
              "  </tbody>\n",
              "</table>\n",
              "</div>"
            ],
            "text/plain": [
              "   travisJobId  ... skipped\n",
              "0    155318303  ...       0\n",
              "1    155318303  ...       0\n",
              "2    155318303  ...       0\n",
              "3    155318303  ...       0\n",
              "4    155318303  ...       0\n",
              "\n",
              "[5 rows x 8 columns]"
            ]
          },
          "metadata": {
            "tags": []
          },
          "execution_count": 52
        }
      ]
    },
    {
      "cell_type": "code",
      "metadata": {
        "colab": {
          "base_uri": "https://localhost:8080/",
          "height": 222
        },
        "id": "j9Ak0UMai41C",
        "outputId": "93049083-3d4c-4e6b-a48d-009287f00db5"
      },
      "source": [
        "dt.tail()\n"
      ],
      "execution_count": 53,
      "outputs": [
        {
          "output_type": "execute_result",
          "data": {
            "text/html": [
              "<div>\n",
              "<style scoped>\n",
              "    .dataframe tbody tr th:only-of-type {\n",
              "        vertical-align: middle;\n",
              "    }\n",
              "\n",
              "    .dataframe tbody tr th {\n",
              "        vertical-align: top;\n",
              "    }\n",
              "\n",
              "    .dataframe thead th {\n",
              "        text-align: right;\n",
              "    }\n",
              "</style>\n",
              "<table border=\"1\" class=\"dataframe\">\n",
              "  <thead>\n",
              "    <tr style=\"text-align: right;\">\n",
              "      <th></th>\n",
              "      <th>travisJobId</th>\n",
              "      <th>testName</th>\n",
              "      <th>index</th>\n",
              "      <th>duration</th>\n",
              "      <th>count</th>\n",
              "      <th>failures</th>\n",
              "      <th>errors</th>\n",
              "      <th>skipped</th>\n",
              "    </tr>\n",
              "  </thead>\n",
              "  <tbody>\n",
              "    <tr>\n",
              "      <th>783985</th>\n",
              "      <td>93708442</td>\n",
              "      <td>com.facebook.buck.apple.AppleTestIntegrationTest</td>\n",
              "      <td>612</td>\n",
              "      <td>0</td>\n",
              "      <td>0</td>\n",
              "      <td>0</td>\n",
              "      <td>0</td>\n",
              "      <td>0</td>\n",
              "    </tr>\n",
              "    <tr>\n",
              "      <th>783986</th>\n",
              "      <td>93708442</td>\n",
              "      <td>com.facebook.buck.cli.InstallCommandIntegratio...</td>\n",
              "      <td>613</td>\n",
              "      <td>0</td>\n",
              "      <td>0</td>\n",
              "      <td>0</td>\n",
              "      <td>0</td>\n",
              "      <td>0</td>\n",
              "    </tr>\n",
              "    <tr>\n",
              "      <th>783987</th>\n",
              "      <td>93708442</td>\n",
              "      <td>com.facebook.buck.gwt.GwtBinaryIntegrationTest</td>\n",
              "      <td>614</td>\n",
              "      <td>27</td>\n",
              "      <td>1</td>\n",
              "      <td>0</td>\n",
              "      <td>0</td>\n",
              "      <td>0</td>\n",
              "    </tr>\n",
              "    <tr>\n",
              "      <th>783988</th>\n",
              "      <td>93708442</td>\n",
              "      <td>com.facebook.buck.jvm.java.JavaTestIntegration...</td>\n",
              "      <td>615</td>\n",
              "      <td>11</td>\n",
              "      <td>11</td>\n",
              "      <td>0</td>\n",
              "      <td>0</td>\n",
              "      <td>0</td>\n",
              "    </tr>\n",
              "    <tr>\n",
              "      <th>783989</th>\n",
              "      <td>93708442</td>\n",
              "      <td>com.facebook.buck.util.versioncontrol.HgCmdLin...</td>\n",
              "      <td>616</td>\n",
              "      <td>0</td>\n",
              "      <td>10</td>\n",
              "      <td>0</td>\n",
              "      <td>0</td>\n",
              "      <td>10</td>\n",
              "    </tr>\n",
              "  </tbody>\n",
              "</table>\n",
              "</div>"
            ],
            "text/plain": [
              "        travisJobId  ... skipped\n",
              "783985     93708442  ...       0\n",
              "783986     93708442  ...       0\n",
              "783987     93708442  ...       0\n",
              "783988     93708442  ...       0\n",
              "783989     93708442  ...      10\n",
              "\n",
              "[5 rows x 8 columns]"
            ]
          },
          "metadata": {
            "tags": []
          },
          "execution_count": 53
        }
      ]
    },
    {
      "cell_type": "code",
      "metadata": {
        "colab": {
          "base_uri": "https://localhost:8080/"
        },
        "id": "Oq9GceGxi9nN",
        "outputId": "8ce11cc4-f744-4b7e-c8e9-ed14fa596a39"
      },
      "source": [
        "dt.shape"
      ],
      "execution_count": 54,
      "outputs": [
        {
          "output_type": "execute_result",
          "data": {
            "text/plain": [
              "(783990, 8)"
            ]
          },
          "metadata": {
            "tags": []
          },
          "execution_count": 54
        }
      ]
    },
    {
      "cell_type": "code",
      "metadata": {
        "colab": {
          "base_uri": "https://localhost:8080/",
          "height": 294
        },
        "id": "Q8yedgLmjAuw",
        "outputId": "0cda1561-ffc1-42c8-b34c-cb5b5a89d1a5"
      },
      "source": [
        "dt.describe()\n"
      ],
      "execution_count": 55,
      "outputs": [
        {
          "output_type": "execute_result",
          "data": {
            "text/html": [
              "<div>\n",
              "<style scoped>\n",
              "    .dataframe tbody tr th:only-of-type {\n",
              "        vertical-align: middle;\n",
              "    }\n",
              "\n",
              "    .dataframe tbody tr th {\n",
              "        vertical-align: top;\n",
              "    }\n",
              "\n",
              "    .dataframe thead th {\n",
              "        text-align: right;\n",
              "    }\n",
              "</style>\n",
              "<table border=\"1\" class=\"dataframe\">\n",
              "  <thead>\n",
              "    <tr style=\"text-align: right;\">\n",
              "      <th></th>\n",
              "      <th>travisJobId</th>\n",
              "      <th>index</th>\n",
              "      <th>duration</th>\n",
              "      <th>count</th>\n",
              "      <th>failures</th>\n",
              "      <th>errors</th>\n",
              "      <th>skipped</th>\n",
              "    </tr>\n",
              "  </thead>\n",
              "  <tbody>\n",
              "    <tr>\n",
              "      <th>count</th>\n",
              "      <td>7.839900e+05</td>\n",
              "      <td>783990.000000</td>\n",
              "      <td>783990.000000</td>\n",
              "      <td>783990.000000</td>\n",
              "      <td>783990.000000</td>\n",
              "      <td>783990.0</td>\n",
              "      <td>783990.000000</td>\n",
              "    </tr>\n",
              "    <tr>\n",
              "      <th>mean</th>\n",
              "      <td>1.202699e+08</td>\n",
              "      <td>345.344999</td>\n",
              "      <td>2.364779</td>\n",
              "      <td>5.933976</td>\n",
              "      <td>0.005094</td>\n",
              "      <td>0.0</td>\n",
              "      <td>0.295305</td>\n",
              "    </tr>\n",
              "    <tr>\n",
              "      <th>std</th>\n",
              "      <td>2.245196e+07</td>\n",
              "      <td>204.780485</td>\n",
              "      <td>10.756787</td>\n",
              "      <td>10.009804</td>\n",
              "      <td>0.229107</td>\n",
              "      <td>0.0</td>\n",
              "      <td>1.998691</td>\n",
              "    </tr>\n",
              "    <tr>\n",
              "      <th>min</th>\n",
              "      <td>3.424780e+07</td>\n",
              "      <td>0.000000</td>\n",
              "      <td>0.000000</td>\n",
              "      <td>0.000000</td>\n",
              "      <td>0.000000</td>\n",
              "      <td>0.0</td>\n",
              "      <td>0.000000</td>\n",
              "    </tr>\n",
              "    <tr>\n",
              "      <th>25%</th>\n",
              "      <td>9.935938e+07</td>\n",
              "      <td>170.000000</td>\n",
              "      <td>0.000000</td>\n",
              "      <td>2.000000</td>\n",
              "      <td>0.000000</td>\n",
              "      <td>0.0</td>\n",
              "      <td>0.000000</td>\n",
              "    </tr>\n",
              "    <tr>\n",
              "      <th>50%</th>\n",
              "      <td>1.115400e+08</td>\n",
              "      <td>342.000000</td>\n",
              "      <td>0.000000</td>\n",
              "      <td>3.000000</td>\n",
              "      <td>0.000000</td>\n",
              "      <td>0.0</td>\n",
              "      <td>0.000000</td>\n",
              "    </tr>\n",
              "    <tr>\n",
              "      <th>75%</th>\n",
              "      <td>1.440482e+08</td>\n",
              "      <td>513.000000</td>\n",
              "      <td>0.000000</td>\n",
              "      <td>6.000000</td>\n",
              "      <td>0.000000</td>\n",
              "      <td>0.0</td>\n",
              "      <td>0.000000</td>\n",
              "    </tr>\n",
              "    <tr>\n",
              "      <th>max</th>\n",
              "      <td>1.566613e+08</td>\n",
              "      <td>1297.000000</td>\n",
              "      <td>318.000000</td>\n",
              "      <td>210.000000</td>\n",
              "      <td>77.000000</td>\n",
              "      <td>0.0</td>\n",
              "      <td>81.000000</td>\n",
              "    </tr>\n",
              "  </tbody>\n",
              "</table>\n",
              "</div>"
            ],
            "text/plain": [
              "        travisJobId          index  ...    errors        skipped\n",
              "count  7.839900e+05  783990.000000  ...  783990.0  783990.000000\n",
              "mean   1.202699e+08     345.344999  ...       0.0       0.295305\n",
              "std    2.245196e+07     204.780485  ...       0.0       1.998691\n",
              "min    3.424780e+07       0.000000  ...       0.0       0.000000\n",
              "25%    9.935938e+07     170.000000  ...       0.0       0.000000\n",
              "50%    1.115400e+08     342.000000  ...       0.0       0.000000\n",
              "75%    1.440482e+08     513.000000  ...       0.0       0.000000\n",
              "max    1.566613e+08    1297.000000  ...       0.0      81.000000\n",
              "\n",
              "[8 rows x 7 columns]"
            ]
          },
          "metadata": {
            "tags": []
          },
          "execution_count": 55
        }
      ]
    },
    {
      "cell_type": "code",
      "metadata": {
        "colab": {
          "base_uri": "https://localhost:8080/"
        },
        "id": "5uJSZvohjFhT",
        "outputId": "b8e6cc51-43eb-4716-bb81-df1d967e9d05"
      },
      "source": [
        "dt.columns"
      ],
      "execution_count": 56,
      "outputs": [
        {
          "output_type": "execute_result",
          "data": {
            "text/plain": [
              "Index(['travisJobId', 'testName', 'index', 'duration', 'count', 'failures',\n",
              "       'errors', 'skipped'],\n",
              "      dtype='object')"
            ]
          },
          "metadata": {
            "tags": []
          },
          "execution_count": 56
        }
      ]
    },
    {
      "cell_type": "code",
      "metadata": {
        "colab": {
          "base_uri": "https://localhost:8080/"
        },
        "id": "RTX91pHnjJX1",
        "outputId": "2c4397c1-c45a-4786-94e8-c80c588c4323"
      },
      "source": [
        "dt.nunique()"
      ],
      "execution_count": 57,
      "outputs": [
        {
          "output_type": "execute_result",
          "data": {
            "text/plain": [
              "travisJobId    1148\n",
              "testName        894\n",
              "index          1298\n",
              "duration        250\n",
              "count            84\n",
              "failures         16\n",
              "errors            1\n",
              "skipped          32\n",
              "dtype: int64"
            ]
          },
          "metadata": {
            "tags": []
          },
          "execution_count": 57
        }
      ]
    },
    {
      "cell_type": "code",
      "metadata": {
        "colab": {
          "base_uri": "https://localhost:8080/"
        },
        "id": "18-4aKRPjqwB",
        "outputId": "2ae94772-41b3-4b1f-8c43-a5ddd305083d"
      },
      "source": [
        "dt['index'].unique()"
      ],
      "execution_count": 58,
      "outputs": [
        {
          "output_type": "execute_result",
          "data": {
            "text/plain": [
              "array([   0,    1,    2, ..., 1295, 1296, 1297])"
            ]
          },
          "metadata": {
            "tags": []
          },
          "execution_count": 58
        }
      ]
    },
    {
      "cell_type": "code",
      "metadata": {
        "colab": {
          "base_uri": "https://localhost:8080/"
        },
        "id": "hUBl3cZnkDN7",
        "outputId": "900413bc-6f8d-4dc5-beb1-c2233b613d1a"
      },
      "source": [
        "dt['duration'].unique()"
      ],
      "execution_count": 59,
      "outputs": [
        {
          "output_type": "execute_result",
          "data": {
            "text/plain": [
              "array([  0,   1,  23,   7,  19,   4,  24,  44,   2,  31,   5,   3, 139,\n",
              "        32,  22,  38,   8,   6,  10,   9,  35,  16,  30,  11,  20,  28,\n",
              "        21, 136,  39,  79,  14,  12,  89, 156,  15,  49,  37,  54,  13,\n",
              "        74,  33,  25,  27,  17,  18,  77,  58,  71, 125,  51,  41,  43,\n",
              "        42,  61,  70,  26,  83,  64, 122,  34,  59, 102,  99,  98,  73,\n",
              "        76,  52,  82,  29,  93,  65, 120,  46,  50, 145, 223,  91, 108,\n",
              "       179,  63, 130, 157,  48, 128, 100, 141,  68,  78,  36, 146,  45,\n",
              "        96, 185, 126,  55, 163, 121, 114, 193,  72,  57,  67, 107, 143,\n",
              "        40, 105, 158,  56,  86, 155, 103,  87,  66, 115,  47, 124, 123,\n",
              "       116, 191, 206,  92,  85,  69, 271, 202,  53,  90,  97,  62, 109,\n",
              "       142,  88, 177, 159, 134,  80, 148,  75, 111, 153, 106, 138, 117,\n",
              "       160, 187,  60,  95, 172, 112, 212, 180, 110, 220, 150, 199, 149,\n",
              "       144, 140, 104, 119, 161, 118,  81,  84, 135, 189, 113, 169, 154,\n",
              "       186, 178, 166, 101, 137, 167, 210, 171, 226, 132, 133, 131, 175,\n",
              "       127, 173, 195, 152,  94, 174, 217, 170, 204, 168, 176, 221, 164,\n",
              "       200, 151, 241, 188, 218, 147, 194, 182, 129, 165, 213, 198, 197,\n",
              "       162, 209, 203, 230, 254, 205, 196, 181, 184, 207, 192, 250, 246,\n",
              "       265, 318, 240, 183, 260, 216, 248, 201, 249, 268, 235, 208, 214,\n",
              "       264, 234, 224, 233, 215, 303, 190, 211, 270, 257, 219, 242, 229,\n",
              "       307, 228, 222])"
            ]
          },
          "metadata": {
            "tags": []
          },
          "execution_count": 59
        }
      ]
    },
    {
      "cell_type": "code",
      "metadata": {
        "colab": {
          "base_uri": "https://localhost:8080/"
        },
        "id": "j68fDIOKjM3R",
        "outputId": "308186be-5423-4971-bbb3-9489f44efd7e"
      },
      "source": [
        "dt['failures'].unique()"
      ],
      "execution_count": 60,
      "outputs": [
        {
          "output_type": "execute_result",
          "data": {
            "text/plain": [
              "array([ 0,  1,  6,  2,  5,  3,  9, 77, 17,  8, 11, 12,  7, 13, 24,  4])"
            ]
          },
          "metadata": {
            "tags": []
          },
          "execution_count": 60
        }
      ]
    },
    {
      "cell_type": "code",
      "metadata": {
        "colab": {
          "base_uri": "https://localhost:8080/"
        },
        "id": "U65azJExDlYY",
        "outputId": "e3bd358d-0533-400c-e4df-b76d557bf5fc"
      },
      "source": [
        "binarized = preprocessing.Binarizer(threshold=1).transform(np.array(dt['failures']).reshape(-1,1))\n",
        "\n",
        "dt['failures'].unique()\n",
        "\n"
      ],
      "execution_count": 61,
      "outputs": [
        {
          "output_type": "execute_result",
          "data": {
            "text/plain": [
              "array([ 0,  1,  6,  2,  5,  3,  9, 77, 17,  8, 11, 12,  7, 13, 24,  4])"
            ]
          },
          "metadata": {
            "tags": []
          },
          "execution_count": 61
        }
      ]
    },
    {
      "cell_type": "code",
      "metadata": {
        "colab": {
          "base_uri": "https://localhost:8080/"
        },
        "id": "Vku8ZFSwF-ky",
        "outputId": "f1d0cfe8-e419-4bec-8b38-e5b0bccc13fe"
      },
      "source": [
        "dt['failures'] = binarized\n",
        "\n",
        "dt['failures'].unique()"
      ],
      "execution_count": 62,
      "outputs": [
        {
          "output_type": "execute_result",
          "data": {
            "text/plain": [
              "array([0, 1])"
            ]
          },
          "metadata": {
            "tags": []
          },
          "execution_count": 62
        }
      ]
    },
    {
      "cell_type": "code",
      "metadata": {
        "id": "wjJoLjy5kNXu"
      },
      "source": [
        "#corelation = dt.corr()\n",
        "#sns.heatmap(corelation, xticklabels = corelation.columns, yticklabels = corelation.columns, annot = True)\n",
        "#sns.pairplot(dt)\n",
        "#sns.distplot(data['failures'])\n",
        "#sns.distplot(data['count'])\n",
        "#sns.distplot(data['duration'])\n",
        "#sns.catplot(x='failures', kind='box', data=data)"
      ],
      "execution_count": 63,
      "outputs": []
    },
    {
      "cell_type": "code",
      "metadata": {
        "colab": {
          "base_uri": "https://localhost:8080/"
        },
        "id": "DJCBRVjTZldm",
        "outputId": "28d8c692-daec-48f5-f1ef-c4d558510ffe"
      },
      "source": [
        "print(len(dt['testName'].unique()))"
      ],
      "execution_count": 64,
      "outputs": [
        {
          "output_type": "stream",
          "text": [
            "894\n"
          ],
          "name": "stdout"
        }
      ]
    },
    {
      "cell_type": "code",
      "metadata": {
        "colab": {
          "base_uri": "https://localhost:8080/",
          "height": 222
        },
        "id": "rj72d8n6l70V",
        "outputId": "c6c8022e-585f-4b3d-be58-e85a25bda728"
      },
      "source": [
        "df=pd.DataFrame(dt)\n",
        "\n",
        "ord_enc = OrdinalEncoder()\n",
        "df[\"test_code\"] = ord_enc.fit_transform(df[[\"testName\"]])\n",
        "df[[\"testName\", \"test_code\"]].head(894)\n",
        "\n",
        "df.head()"
      ],
      "execution_count": 65,
      "outputs": [
        {
          "output_type": "execute_result",
          "data": {
            "text/html": [
              "<div>\n",
              "<style scoped>\n",
              "    .dataframe tbody tr th:only-of-type {\n",
              "        vertical-align: middle;\n",
              "    }\n",
              "\n",
              "    .dataframe tbody tr th {\n",
              "        vertical-align: top;\n",
              "    }\n",
              "\n",
              "    .dataframe thead th {\n",
              "        text-align: right;\n",
              "    }\n",
              "</style>\n",
              "<table border=\"1\" class=\"dataframe\">\n",
              "  <thead>\n",
              "    <tr style=\"text-align: right;\">\n",
              "      <th></th>\n",
              "      <th>travisJobId</th>\n",
              "      <th>testName</th>\n",
              "      <th>index</th>\n",
              "      <th>duration</th>\n",
              "      <th>count</th>\n",
              "      <th>failures</th>\n",
              "      <th>errors</th>\n",
              "      <th>skipped</th>\n",
              "      <th>test_code</th>\n",
              "    </tr>\n",
              "  </thead>\n",
              "  <tbody>\n",
              "    <tr>\n",
              "      <th>0</th>\n",
              "      <td>155318303</td>\n",
              "      <td>//scripts:diff_rulekeys_test</td>\n",
              "      <td>0</td>\n",
              "      <td>0</td>\n",
              "      <td>12</td>\n",
              "      <td>0</td>\n",
              "      <td>0</td>\n",
              "      <td>0</td>\n",
              "      <td>7.0</td>\n",
              "    </tr>\n",
              "    <tr>\n",
              "      <th>1</th>\n",
              "      <td>155318303</td>\n",
              "      <td>//py/buck/zip:test</td>\n",
              "      <td>1</td>\n",
              "      <td>0</td>\n",
              "      <td>2</td>\n",
              "      <td>0</td>\n",
              "      <td>0</td>\n",
              "      <td>0</td>\n",
              "      <td>6.0</td>\n",
              "    </tr>\n",
              "    <tr>\n",
              "      <th>2</th>\n",
              "      <td>155318303</td>\n",
              "      <td>//programs:test</td>\n",
              "      <td>2</td>\n",
              "      <td>0</td>\n",
              "      <td>9</td>\n",
              "      <td>0</td>\n",
              "      <td>0</td>\n",
              "      <td>0</td>\n",
              "      <td>5.0</td>\n",
              "    </tr>\n",
              "    <tr>\n",
              "      <th>3</th>\n",
              "      <td>155318303</td>\n",
              "      <td>//src/com/facebook/buck/apple/project_generato...</td>\n",
              "      <td>3</td>\n",
              "      <td>0</td>\n",
              "      <td>3</td>\n",
              "      <td>0</td>\n",
              "      <td>0</td>\n",
              "      <td>0</td>\n",
              "      <td>9.0</td>\n",
              "    </tr>\n",
              "    <tr>\n",
              "      <th>4</th>\n",
              "      <td>155318303</td>\n",
              "      <td>//src/com/facebook/buck/apple/project_generato...</td>\n",
              "      <td>4</td>\n",
              "      <td>0</td>\n",
              "      <td>5</td>\n",
              "      <td>0</td>\n",
              "      <td>0</td>\n",
              "      <td>0</td>\n",
              "      <td>8.0</td>\n",
              "    </tr>\n",
              "  </tbody>\n",
              "</table>\n",
              "</div>"
            ],
            "text/plain": [
              "   travisJobId  ... test_code\n",
              "0    155318303  ...       7.0\n",
              "1    155318303  ...       6.0\n",
              "2    155318303  ...       5.0\n",
              "3    155318303  ...       9.0\n",
              "4    155318303  ...       8.0\n",
              "\n",
              "[5 rows x 9 columns]"
            ]
          },
          "metadata": {
            "tags": []
          },
          "execution_count": 65
        }
      ]
    },
    {
      "cell_type": "code",
      "metadata": {
        "colab": {
          "base_uri": "https://localhost:8080/",
          "height": 202
        },
        "id": "C5sJMt0IHjFA",
        "outputId": "6496a0a8-86a5-4796-ee75-72634605d613"
      },
      "source": [
        "input_x = df.drop(['travisJobId','failures', 'testName'], axis = 1)\n",
        "input_x.head()\n"
      ],
      "execution_count": 66,
      "outputs": [
        {
          "output_type": "execute_result",
          "data": {
            "text/html": [
              "<div>\n",
              "<style scoped>\n",
              "    .dataframe tbody tr th:only-of-type {\n",
              "        vertical-align: middle;\n",
              "    }\n",
              "\n",
              "    .dataframe tbody tr th {\n",
              "        vertical-align: top;\n",
              "    }\n",
              "\n",
              "    .dataframe thead th {\n",
              "        text-align: right;\n",
              "    }\n",
              "</style>\n",
              "<table border=\"1\" class=\"dataframe\">\n",
              "  <thead>\n",
              "    <tr style=\"text-align: right;\">\n",
              "      <th></th>\n",
              "      <th>index</th>\n",
              "      <th>duration</th>\n",
              "      <th>count</th>\n",
              "      <th>errors</th>\n",
              "      <th>skipped</th>\n",
              "      <th>test_code</th>\n",
              "    </tr>\n",
              "  </thead>\n",
              "  <tbody>\n",
              "    <tr>\n",
              "      <th>0</th>\n",
              "      <td>0</td>\n",
              "      <td>0</td>\n",
              "      <td>12</td>\n",
              "      <td>0</td>\n",
              "      <td>0</td>\n",
              "      <td>7.0</td>\n",
              "    </tr>\n",
              "    <tr>\n",
              "      <th>1</th>\n",
              "      <td>1</td>\n",
              "      <td>0</td>\n",
              "      <td>2</td>\n",
              "      <td>0</td>\n",
              "      <td>0</td>\n",
              "      <td>6.0</td>\n",
              "    </tr>\n",
              "    <tr>\n",
              "      <th>2</th>\n",
              "      <td>2</td>\n",
              "      <td>0</td>\n",
              "      <td>9</td>\n",
              "      <td>0</td>\n",
              "      <td>0</td>\n",
              "      <td>5.0</td>\n",
              "    </tr>\n",
              "    <tr>\n",
              "      <th>3</th>\n",
              "      <td>3</td>\n",
              "      <td>0</td>\n",
              "      <td>3</td>\n",
              "      <td>0</td>\n",
              "      <td>0</td>\n",
              "      <td>9.0</td>\n",
              "    </tr>\n",
              "    <tr>\n",
              "      <th>4</th>\n",
              "      <td>4</td>\n",
              "      <td>0</td>\n",
              "      <td>5</td>\n",
              "      <td>0</td>\n",
              "      <td>0</td>\n",
              "      <td>8.0</td>\n",
              "    </tr>\n",
              "  </tbody>\n",
              "</table>\n",
              "</div>"
            ],
            "text/plain": [
              "   index  duration  count  errors  skipped  test_code\n",
              "0      0         0     12       0        0        7.0\n",
              "1      1         0      2       0        0        6.0\n",
              "2      2         0      9       0        0        5.0\n",
              "3      3         0      3       0        0        9.0\n",
              "4      4         0      5       0        0        8.0"
            ]
          },
          "metadata": {
            "tags": []
          },
          "execution_count": 66
        }
      ]
    },
    {
      "cell_type": "code",
      "metadata": {
        "colab": {
          "base_uri": "https://localhost:8080/"
        },
        "id": "G2_-lZMrZldq",
        "outputId": "f092c4d6-472d-4acf-b145-963e5705597b"
      },
      "source": [
        "input_x.isnull().any()"
      ],
      "execution_count": 67,
      "outputs": [
        {
          "output_type": "execute_result",
          "data": {
            "text/plain": [
              "index        False\n",
              "duration     False\n",
              "count        False\n",
              "errors       False\n",
              "skipped      False\n",
              "test_code    False\n",
              "dtype: bool"
            ]
          },
          "metadata": {
            "tags": []
          },
          "execution_count": 67
        }
      ]
    },
    {
      "cell_type": "code",
      "metadata": {
        "colab": {
          "base_uri": "https://localhost:8080/"
        },
        "id": "SPFNSaE2KGps",
        "outputId": "a676d3cd-b347-4c4e-c35a-d8bbe62ab7e6"
      },
      "source": [
        "output_y = df['failures']\n",
        "output_y.head()"
      ],
      "execution_count": 68,
      "outputs": [
        {
          "output_type": "execute_result",
          "data": {
            "text/plain": [
              "0    0\n",
              "1    0\n",
              "2    0\n",
              "3    0\n",
              "4    0\n",
              "Name: failures, dtype: int64"
            ]
          },
          "metadata": {
            "tags": []
          },
          "execution_count": 68
        }
      ]
    },
    {
      "cell_type": "code",
      "metadata": {
        "colab": {
          "base_uri": "https://localhost:8080/"
        },
        "id": "6PJXrwxmM0vz",
        "outputId": "77c93d05-9b45-4756-ceea-e9d80ee1e3e9"
      },
      "source": [
        "train_x, test_x, train_y, test_y = model_selection.train_test_split(input_x, output_y, test_size=0.7)\n",
        "\n",
        "#print(train_x, test_x, train_y, test_y)\n",
        "\n",
        "print(train_x.shape, test_x.shape, train_y.shape, test_y.shape)\n",
        "\n"
      ],
      "execution_count": 69,
      "outputs": [
        {
          "output_type": "stream",
          "text": [
            "(235197, 6) (548793, 6) (235197,) (548793,)\n"
          ],
          "name": "stdout"
        }
      ]
    },
    {
      "cell_type": "code",
      "metadata": {
        "colab": {
          "base_uri": "https://localhost:8080/"
        },
        "id": "slgH6n9GkHps",
        "outputId": "97a8f2bf-d71b-44bf-c617-290d67b7ace7"
      },
      "source": [
        "#Classifier1 \n",
        "clf1 = GaussianNB()\n",
        "clf1.fit(train_x, train_y)\n",
        "predictions1 = clf1.predict(test_x)\n",
        "print(\"\\nAccuracy score \",accuracy_score(test_y, predictions1))\n",
        "print(\"\\nConfusion_matrix\",confusion_matrix(test_y, predictions1))\n",
        "print(\"\\nClassification_report\",classification_report(test_y, predictions1))\n",
        "prob1 = clf1.predict_proba(test_x)\n",
        "# Keeping only the positive class\n",
        "prob1 = [p[1] for p in prob1]\n",
        "print(\"\\nROC score \",roc_auc_score(test_y, prob1))\n",
        "\n",
        "df_proba1 = pd.DataFrame(clf1.predict_proba(test_x), columns=clf1.classes_)\n",
        "df_out1 = pd.merge(df,df_proba1,how = 'left',left_index = True, right_index = True)\n",
        "df_out1.head()\n",
        "\n",
        "dfsort1 = df_out1.sort_values(by=[0,1])\n",
        "print(dfsort1)\n",
        "\n",
        "from google.colab import drive\n",
        "drive.mount('/content/gdrive')\n",
        "\n",
        "dfsort1.to_csv(r'/content/gdrive/MyDrive/Colab Notebooks/SQ/buck@nb.csv')"
      ],
      "execution_count": 70,
      "outputs": [
        {
          "output_type": "stream",
          "text": [
            "\n",
            "Accuracy score  0.9972157079263038\n",
            "\n",
            "Confusion_matrix [[547263   1125]\n",
            " [   403      2]]\n",
            "\n",
            "Classification_report               precision    recall  f1-score   support\n",
            "\n",
            "           0       1.00      1.00      1.00    548388\n",
            "           1       0.00      0.00      0.00       405\n",
            "\n",
            "    accuracy                           1.00    548793\n",
            "   macro avg       0.50      0.50      0.50    548793\n",
            "weighted avg       1.00      1.00      1.00    548793\n",
            "\n",
            "\n",
            "ROC score  0.8593612304057584\n",
            "        travisJobId  ...    1\n",
            "182969     97567763  ...  1.0\n",
            "338174     99417189  ...  1.0\n",
            "385649    146401478  ...  1.0\n",
            "478052    150015809  ...  1.0\n",
            "542465     96659724  ...  1.0\n",
            "...             ...  ...  ...\n",
            "783985     93708442  ...  NaN\n",
            "783986     93708442  ...  NaN\n",
            "783987     93708442  ...  NaN\n",
            "783988     93708442  ...  NaN\n",
            "783989     93708442  ...  NaN\n",
            "\n",
            "[783990 rows x 11 columns]\n",
            "Drive already mounted at /content/gdrive; to attempt to forcibly remount, call drive.mount(\"/content/gdrive\", force_remount=True).\n"
          ],
          "name": "stdout"
        }
      ]
    },
    {
      "cell_type": "code",
      "metadata": {
        "colab": {
          "base_uri": "https://localhost:8080/"
        },
        "id": "TX3bKHKZkjOY",
        "outputId": "b8e9a575-f160-403d-8ff9-9a156dd51285"
      },
      "source": [
        "#Classifier2\n",
        "clf2 = LogisticRegression()\n",
        "clf2.fit(train_x, train_y)\n",
        "predictions2 = clf2.predict(test_x)\n",
        "print(\"\\nAccuracy score \",accuracy_score(test_y, predictions2))\n",
        "print(\"\\nConfusion_matrix\",confusion_matrix(test_y, predictions2))\n",
        "print(\"\\nClassification_report\",classification_report(test_y, predictions2))\n",
        "prob2 = clf2.predict_proba(test_x)\n",
        "# Keeping only the positive class\n",
        "prob2 = [p[1] for p in prob2]\n",
        "print(\"\\nROC score \",roc_auc_score(test_y, prob2))\n",
        "\n",
        "df_proba2 = pd.DataFrame(clf2.predict_proba(test_x), columns=clf2.classes_)\n",
        "df_out2 = pd.merge(df,df_proba2,how = 'left',left_index = True, right_index = True)\n",
        "df_out2.head()\n",
        "\n",
        "dfsort2 = df_out2.sort_values(by=[0,1])\n",
        "print(dfsort2)\n",
        "\n",
        "#from google.colab import drive\n",
        "#drive.mount('/content/gdrive')\n",
        "\n",
        "dfsort2.to_csv(r'/content/gdrive/MyDrive/Colab Notebooks/SQ/buck@lr.csv')\n"
      ],
      "execution_count": 71,
      "outputs": [
        {
          "output_type": "stream",
          "text": [
            "\n",
            "Accuracy score  0.9992620168260163\n",
            "\n",
            "Confusion_matrix [[548388      0]\n",
            " [   405      0]]\n"
          ],
          "name": "stdout"
        },
        {
          "output_type": "stream",
          "text": [
            "/usr/local/lib/python3.7/dist-packages/sklearn/metrics/_classification.py:1272: UndefinedMetricWarning: Precision and F-score are ill-defined and being set to 0.0 in labels with no predicted samples. Use `zero_division` parameter to control this behavior.\n",
            "  _warn_prf(average, modifier, msg_start, len(result))\n"
          ],
          "name": "stderr"
        },
        {
          "output_type": "stream",
          "text": [
            "\n",
            "Classification_report               precision    recall  f1-score   support\n",
            "\n",
            "           0       1.00      1.00      1.00    548388\n",
            "           1       0.00      0.00      0.00       405\n",
            "\n",
            "    accuracy                           1.00    548793\n",
            "   macro avg       0.50      0.50      0.50    548793\n",
            "weighted avg       1.00      1.00      1.00    548793\n",
            "\n",
            "\n",
            "ROC score  0.8360114204982558\n",
            "        travisJobId  ...         1\n",
            "414697     94507305  ...  0.232208\n",
            "362687     99479962  ...  0.202138\n",
            "188035    142184827  ...  0.183873\n",
            "119264    111795017  ...  0.166876\n",
            "351809    111112617  ...  0.157366\n",
            "...             ...  ...       ...\n",
            "783985     93708442  ...       NaN\n",
            "783986     93708442  ...       NaN\n",
            "783987     93708442  ...       NaN\n",
            "783988     93708442  ...       NaN\n",
            "783989     93708442  ...       NaN\n",
            "\n",
            "[783990 rows x 11 columns]\n"
          ],
          "name": "stdout"
        }
      ]
    },
    {
      "cell_type": "code",
      "metadata": {
        "colab": {
          "base_uri": "https://localhost:8080/"
        },
        "id": "2o6k4yIXmync",
        "outputId": "575b86bd-8d78-472b-bdd7-5e06dcc91fdb"
      },
      "source": [
        "#Classifier3\n",
        "clf3 = RandomForestClassifier()\n",
        "clf3.fit(train_x, train_y)\n",
        "predictions3 = clf3.predict(test_x)\n",
        "print(\"\\nAccuracy score \",accuracy_score(test_y, predictions3))\n",
        "print(\"\\nConfusion_matrix\",confusion_matrix(test_y, predictions3))\n",
        "print(\"\\nClassification_report\",classification_report(test_y, predictions3))\n",
        "prob3 = clf3.predict_proba(test_x)\n",
        "# Keeping only the positive class\n",
        "prob3 = [p[1] for p in prob3]\n",
        "print(\"\\nROC score \",roc_auc_score(test_y, prob3))\n",
        "\n",
        "df_proba3 = pd.DataFrame(clf3.predict_proba(test_x), columns=clf3.classes_)\n",
        "df_out3 = pd.merge(df,df_proba3,how = 'left',left_index = True, right_index = True)\n",
        "df_out3.head()\n",
        "\n",
        "dfsort3 = df_out3.sort_values(by=[0,1])\n",
        "print(dfsort3)\n",
        "\n",
        "dfsort3.to_csv(r'/content/gdrive/MyDrive/Colab Notebooks/SQ/buck@rf.csv')"
      ],
      "execution_count": 72,
      "outputs": [
        {
          "output_type": "stream",
          "text": [
            "\n",
            "Accuracy score  0.9997193841758185\n",
            "\n",
            "Confusion_matrix [[548346     42]\n",
            " [   112    293]]\n",
            "\n",
            "Classification_report               precision    recall  f1-score   support\n",
            "\n",
            "           0       1.00      1.00      1.00    548388\n",
            "           1       0.87      0.72      0.79       405\n",
            "\n",
            "    accuracy                           1.00    548793\n",
            "   macro avg       0.94      0.86      0.90    548793\n",
            "weighted avg       1.00      1.00      1.00    548793\n",
            "\n",
            "\n",
            "ROC score  0.9563946703681102\n",
            "        travisJobId  ...    1\n",
            "10555      97002283  ...  1.0\n",
            "14228     110207956  ...  1.0\n",
            "16624     154173184  ...  1.0\n",
            "18317     154706739  ...  1.0\n",
            "20892     101372449  ...  1.0\n",
            "...             ...  ...  ...\n",
            "783985     93708442  ...  NaN\n",
            "783986     93708442  ...  NaN\n",
            "783987     93708442  ...  NaN\n",
            "783988     93708442  ...  NaN\n",
            "783989     93708442  ...  NaN\n",
            "\n",
            "[783990 rows x 11 columns]\n"
          ],
          "name": "stdout"
        }
      ]
    }
  ]
}