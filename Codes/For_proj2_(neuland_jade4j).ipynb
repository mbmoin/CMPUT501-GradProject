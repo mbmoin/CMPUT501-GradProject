{
  "nbformat": 4,
  "nbformat_minor": 0,
  "metadata": {
    "colab": {
      "name": "3 SQ_proj2_(Apr_20).ipynb",
      "provenance": [],
      "collapsed_sections": []
    },
    "kernelspec": {
      "display_name": "Python 3",
      "language": "python",
      "name": "python3"
    },
    "language_info": {
      "codemirror_mode": {
        "name": "ipython",
        "version": 3
      },
      "file_extension": ".py",
      "mimetype": "text/x-python",
      "name": "python",
      "nbconvert_exporter": "python",
      "pygments_lexer": "ipython3",
      "version": "3.6.7"
    }
  },
  "cells": [
    {
      "cell_type": "code",
      "metadata": {
        "id": "k4YnPhgOgnqd"
      },
      "source": [
        "import numpy as np\n",
        "import pandas as pd\n",
        "import seaborn as sns\n",
        "\n",
        "from sklearn import model_selection, preprocessing\n",
        "from sklearn.preprocessing import OrdinalEncoder\n",
        "\n",
        "from sklearn.model_selection import train_test_split\n",
        "\n",
        "from sklearn import svm \n",
        "from sklearn.naive_bayes import GaussianNB\n",
        "from sklearn.ensemble import RandomForestClassifier\n",
        "from sklearn.linear_model import LogisticRegression\n",
        "\n",
        "import matplotlib.pyplot as plt\n",
        "from sklearn.metrics import roc_auc_score\n",
        "from sklearn.model_selection import cross_val_score\n",
        "from sklearn.metrics import classification_report\n",
        "from sklearn.metrics import confusion_matrix\n",
        "from sklearn.metrics import accuracy_score"
      ],
      "execution_count": null,
      "outputs": []
    },
    {
      "cell_type": "code",
      "metadata": {
        "colab": {
          "base_uri": "https://localhost:8080/",
          "height": 202
        },
        "id": "i7idQPxvifmM",
        "outputId": "be5db73d-679d-485d-aff2-0243e802cc46"
      },
      "source": [
        "dt = pd.read_csv('neuland@jade4j.csv')\n",
        "\n",
        "dt.head()\n"
      ],
      "execution_count": null,
      "outputs": [
        {
          "output_type": "execute_result",
          "data": {
            "text/html": [
              "<div>\n",
              "<style scoped>\n",
              "    .dataframe tbody tr th:only-of-type {\n",
              "        vertical-align: middle;\n",
              "    }\n",
              "\n",
              "    .dataframe tbody tr th {\n",
              "        vertical-align: top;\n",
              "    }\n",
              "\n",
              "    .dataframe thead th {\n",
              "        text-align: right;\n",
              "    }\n",
              "</style>\n",
              "<table border=\"1\" class=\"dataframe\">\n",
              "  <thead>\n",
              "    <tr style=\"text-align: right;\">\n",
              "      <th></th>\n",
              "      <th>travisJobId</th>\n",
              "      <th>testName</th>\n",
              "      <th>index</th>\n",
              "      <th>duration</th>\n",
              "      <th>count</th>\n",
              "      <th>failures</th>\n",
              "      <th>errors</th>\n",
              "      <th>skipped</th>\n",
              "    </tr>\n",
              "  </thead>\n",
              "  <tbody>\n",
              "    <tr>\n",
              "      <th>0</th>\n",
              "      <td>87853794</td>\n",
              "      <td>de.neuland.jade4j.exceptions.JadeExceptionTest</td>\n",
              "      <td>0</td>\n",
              "      <td>0.170</td>\n",
              "      <td>2</td>\n",
              "      <td>1</td>\n",
              "      <td>0</td>\n",
              "      <td>0</td>\n",
              "    </tr>\n",
              "    <tr>\n",
              "      <th>1</th>\n",
              "      <td>87853794</td>\n",
              "      <td>de.neuland.jade4j.template.JadeRunFullTemplate...</td>\n",
              "      <td>1</td>\n",
              "      <td>0.050</td>\n",
              "      <td>2</td>\n",
              "      <td>0</td>\n",
              "      <td>0</td>\n",
              "      <td>0</td>\n",
              "    </tr>\n",
              "    <tr>\n",
              "      <th>2</th>\n",
              "      <td>87853794</td>\n",
              "      <td>de.neuland.jade4j.template.JadeConfigurationTest</td>\n",
              "      <td>2</td>\n",
              "      <td>0.013</td>\n",
              "      <td>5</td>\n",
              "      <td>0</td>\n",
              "      <td>0</td>\n",
              "      <td>0</td>\n",
              "    </tr>\n",
              "    <tr>\n",
              "      <th>3</th>\n",
              "      <td>87853794</td>\n",
              "      <td>de.neuland.jade4j.model.JadeModelTest</td>\n",
              "      <td>3</td>\n",
              "      <td>0.000</td>\n",
              "      <td>2</td>\n",
              "      <td>0</td>\n",
              "      <td>0</td>\n",
              "      <td>0</td>\n",
              "    </tr>\n",
              "    <tr>\n",
              "      <th>4</th>\n",
              "      <td>87853794</td>\n",
              "      <td>de.neuland.jade4j.parser.ComplexIndentOutdentP...</td>\n",
              "      <td>4</td>\n",
              "      <td>0.015</td>\n",
              "      <td>1</td>\n",
              "      <td>0</td>\n",
              "      <td>0</td>\n",
              "      <td>0</td>\n",
              "    </tr>\n",
              "  </tbody>\n",
              "</table>\n",
              "</div>"
            ],
            "text/plain": [
              "   travisJobId  ... skipped\n",
              "0     87853794  ...       0\n",
              "1     87853794  ...       0\n",
              "2     87853794  ...       0\n",
              "3     87853794  ...       0\n",
              "4     87853794  ...       0\n",
              "\n",
              "[5 rows x 8 columns]"
            ]
          },
          "metadata": {
            "tags": []
          },
          "execution_count": 111
        }
      ]
    },
    {
      "cell_type": "code",
      "metadata": {
        "colab": {
          "base_uri": "https://localhost:8080/",
          "height": 202
        },
        "id": "j9Ak0UMai41C",
        "outputId": "9f130f91-c981-4dfc-eee3-e14b10dae251"
      },
      "source": [
        "dt.tail()\n"
      ],
      "execution_count": null,
      "outputs": [
        {
          "output_type": "execute_result",
          "data": {
            "text/html": [
              "<div>\n",
              "<style scoped>\n",
              "    .dataframe tbody tr th:only-of-type {\n",
              "        vertical-align: middle;\n",
              "    }\n",
              "\n",
              "    .dataframe tbody tr th {\n",
              "        vertical-align: top;\n",
              "    }\n",
              "\n",
              "    .dataframe thead th {\n",
              "        text-align: right;\n",
              "    }\n",
              "</style>\n",
              "<table border=\"1\" class=\"dataframe\">\n",
              "  <thead>\n",
              "    <tr style=\"text-align: right;\">\n",
              "      <th></th>\n",
              "      <th>travisJobId</th>\n",
              "      <th>testName</th>\n",
              "      <th>index</th>\n",
              "      <th>duration</th>\n",
              "      <th>count</th>\n",
              "      <th>failures</th>\n",
              "      <th>errors</th>\n",
              "      <th>skipped</th>\n",
              "    </tr>\n",
              "  </thead>\n",
              "  <tbody>\n",
              "    <tr>\n",
              "      <th>35882</th>\n",
              "      <td>14243467</td>\n",
              "      <td>de.neuland.jade4j.lexer.token.TagTest</td>\n",
              "      <td>31</td>\n",
              "      <td>0.001</td>\n",
              "      <td>1</td>\n",
              "      <td>0</td>\n",
              "      <td>0</td>\n",
              "      <td>0</td>\n",
              "    </tr>\n",
              "    <tr>\n",
              "      <th>35883</th>\n",
              "      <td>14243467</td>\n",
              "      <td>de.neuland.jade4j.lexer.token.TextTest</td>\n",
              "      <td>32</td>\n",
              "      <td>0.003</td>\n",
              "      <td>1</td>\n",
              "      <td>0</td>\n",
              "      <td>0</td>\n",
              "      <td>0</td>\n",
              "    </tr>\n",
              "    <tr>\n",
              "      <th>35884</th>\n",
              "      <td>14243467</td>\n",
              "      <td>de.neuland.jade4j.lexer.WorkTest</td>\n",
              "      <td>33</td>\n",
              "      <td>0.001</td>\n",
              "      <td>1</td>\n",
              "      <td>0</td>\n",
              "      <td>0</td>\n",
              "      <td>0</td>\n",
              "    </tr>\n",
              "    <tr>\n",
              "      <th>35885</th>\n",
              "      <td>14243467</td>\n",
              "      <td>de.neuland.jade4j.lexer.JadeLexerTest</td>\n",
              "      <td>34</td>\n",
              "      <td>0.002</td>\n",
              "      <td>3</td>\n",
              "      <td>0</td>\n",
              "      <td>0</td>\n",
              "      <td>0</td>\n",
              "    </tr>\n",
              "    <tr>\n",
              "      <th>35886</th>\n",
              "      <td>14243467</td>\n",
              "      <td>de.neuland.jade4j.lexer.LexerTest</td>\n",
              "      <td>35</td>\n",
              "      <td>0.000</td>\n",
              "      <td>1</td>\n",
              "      <td>0</td>\n",
              "      <td>0</td>\n",
              "      <td>0</td>\n",
              "    </tr>\n",
              "  </tbody>\n",
              "</table>\n",
              "</div>"
            ],
            "text/plain": [
              "       travisJobId                                testName  ...  errors  skipped\n",
              "35882     14243467   de.neuland.jade4j.lexer.token.TagTest  ...       0        0\n",
              "35883     14243467  de.neuland.jade4j.lexer.token.TextTest  ...       0        0\n",
              "35884     14243467        de.neuland.jade4j.lexer.WorkTest  ...       0        0\n",
              "35885     14243467   de.neuland.jade4j.lexer.JadeLexerTest  ...       0        0\n",
              "35886     14243467       de.neuland.jade4j.lexer.LexerTest  ...       0        0\n",
              "\n",
              "[5 rows x 8 columns]"
            ]
          },
          "metadata": {
            "tags": []
          },
          "execution_count": 112
        }
      ]
    },
    {
      "cell_type": "code",
      "metadata": {
        "colab": {
          "base_uri": "https://localhost:8080/"
        },
        "id": "Oq9GceGxi9nN",
        "outputId": "1cb99e66-031d-4470-d670-d1f54cd21c10"
      },
      "source": [
        "dt.shape"
      ],
      "execution_count": null,
      "outputs": [
        {
          "output_type": "execute_result",
          "data": {
            "text/plain": [
              "(35887, 8)"
            ]
          },
          "metadata": {
            "tags": []
          },
          "execution_count": 113
        }
      ]
    },
    {
      "cell_type": "code",
      "metadata": {
        "colab": {
          "base_uri": "https://localhost:8080/",
          "height": 294
        },
        "id": "Q8yedgLmjAuw",
        "outputId": "1a6411a6-8a12-47c2-a3fa-569de1554e11"
      },
      "source": [
        "dt.describe()\n"
      ],
      "execution_count": null,
      "outputs": [
        {
          "output_type": "execute_result",
          "data": {
            "text/html": [
              "<div>\n",
              "<style scoped>\n",
              "    .dataframe tbody tr th:only-of-type {\n",
              "        vertical-align: middle;\n",
              "    }\n",
              "\n",
              "    .dataframe tbody tr th {\n",
              "        vertical-align: top;\n",
              "    }\n",
              "\n",
              "    .dataframe thead th {\n",
              "        text-align: right;\n",
              "    }\n",
              "</style>\n",
              "<table border=\"1\" class=\"dataframe\">\n",
              "  <thead>\n",
              "    <tr style=\"text-align: right;\">\n",
              "      <th></th>\n",
              "      <th>travisJobId</th>\n",
              "      <th>index</th>\n",
              "      <th>duration</th>\n",
              "      <th>count</th>\n",
              "      <th>failures</th>\n",
              "      <th>errors</th>\n",
              "      <th>skipped</th>\n",
              "    </tr>\n",
              "  </thead>\n",
              "  <tbody>\n",
              "    <tr>\n",
              "      <th>count</th>\n",
              "      <td>3.588700e+04</td>\n",
              "      <td>35887.000000</td>\n",
              "      <td>35887.000000</td>\n",
              "      <td>35887.000000</td>\n",
              "      <td>35887.000000</td>\n",
              "      <td>35887.000000</td>\n",
              "      <td>35887.000000</td>\n",
              "    </tr>\n",
              "    <tr>\n",
              "      <th>mean</th>\n",
              "      <td>8.584269e+07</td>\n",
              "      <td>19.230251</td>\n",
              "      <td>0.114179</td>\n",
              "      <td>6.722741</td>\n",
              "      <td>0.086271</td>\n",
              "      <td>0.109678</td>\n",
              "      <td>0.178143</td>\n",
              "    </tr>\n",
              "    <tr>\n",
              "      <th>std</th>\n",
              "      <td>3.224883e+07</td>\n",
              "      <td>11.780563</td>\n",
              "      <td>4.671694</td>\n",
              "      <td>17.726826</td>\n",
              "      <td>1.183693</td>\n",
              "      <td>1.994337</td>\n",
              "      <td>0.430674</td>\n",
              "    </tr>\n",
              "    <tr>\n",
              "      <th>min</th>\n",
              "      <td>1.111925e+06</td>\n",
              "      <td>0.000000</td>\n",
              "      <td>0.000000</td>\n",
              "      <td>1.000000</td>\n",
              "      <td>0.000000</td>\n",
              "      <td>0.000000</td>\n",
              "      <td>0.000000</td>\n",
              "    </tr>\n",
              "    <tr>\n",
              "      <th>25%</th>\n",
              "      <td>8.960691e+07</td>\n",
              "      <td>9.000000</td>\n",
              "      <td>0.000000</td>\n",
              "      <td>1.000000</td>\n",
              "      <td>0.000000</td>\n",
              "      <td>0.000000</td>\n",
              "      <td>0.000000</td>\n",
              "    </tr>\n",
              "    <tr>\n",
              "      <th>50%</th>\n",
              "      <td>9.071805e+07</td>\n",
              "      <td>19.000000</td>\n",
              "      <td>0.001000</td>\n",
              "      <td>1.000000</td>\n",
              "      <td>0.000000</td>\n",
              "      <td>0.000000</td>\n",
              "      <td>0.000000</td>\n",
              "    </tr>\n",
              "    <tr>\n",
              "      <th>75%</th>\n",
              "      <td>9.436153e+07</td>\n",
              "      <td>28.000000</td>\n",
              "      <td>0.010000</td>\n",
              "      <td>3.000000</td>\n",
              "      <td>0.000000</td>\n",
              "      <td>0.000000</td>\n",
              "      <td>0.000000</td>\n",
              "    </tr>\n",
              "    <tr>\n",
              "      <th>max</th>\n",
              "      <td>1.422286e+08</td>\n",
              "      <td>43.000000</td>\n",
              "      <td>572.163000</td>\n",
              "      <td>103.000000</td>\n",
              "      <td>66.000000</td>\n",
              "      <td>93.000000</td>\n",
              "      <td>2.000000</td>\n",
              "    </tr>\n",
              "  </tbody>\n",
              "</table>\n",
              "</div>"
            ],
            "text/plain": [
              "        travisJobId         index  ...        errors       skipped\n",
              "count  3.588700e+04  35887.000000  ...  35887.000000  35887.000000\n",
              "mean   8.584269e+07     19.230251  ...      0.109678      0.178143\n",
              "std    3.224883e+07     11.780563  ...      1.994337      0.430674\n",
              "min    1.111925e+06      0.000000  ...      0.000000      0.000000\n",
              "25%    8.960691e+07      9.000000  ...      0.000000      0.000000\n",
              "50%    9.071805e+07     19.000000  ...      0.000000      0.000000\n",
              "75%    9.436153e+07     28.000000  ...      0.000000      0.000000\n",
              "max    1.422286e+08     43.000000  ...     93.000000      2.000000\n",
              "\n",
              "[8 rows x 7 columns]"
            ]
          },
          "metadata": {
            "tags": []
          },
          "execution_count": 114
        }
      ]
    },
    {
      "cell_type": "code",
      "metadata": {
        "colab": {
          "base_uri": "https://localhost:8080/"
        },
        "id": "5uJSZvohjFhT",
        "outputId": "d68d88dd-edf5-480e-8e0a-c0453c715b29"
      },
      "source": [
        "dt.columns"
      ],
      "execution_count": null,
      "outputs": [
        {
          "output_type": "execute_result",
          "data": {
            "text/plain": [
              "Index(['travisJobId', 'testName', 'index', 'duration', 'count', 'failures',\n",
              "       'errors', 'skipped'],\n",
              "      dtype='object')"
            ]
          },
          "metadata": {
            "tags": []
          },
          "execution_count": 115
        }
      ]
    },
    {
      "cell_type": "code",
      "metadata": {
        "colab": {
          "base_uri": "https://localhost:8080/"
        },
        "id": "RTX91pHnjJX1",
        "outputId": "9540ea0a-5c71-45c5-a4be-55217f5323d8"
      },
      "source": [
        "dt.nunique()"
      ],
      "execution_count": null,
      "outputs": [
        {
          "output_type": "execute_result",
          "data": {
            "text/plain": [
              "travisJobId     932\n",
              "testName         46\n",
              "index            44\n",
              "duration       1324\n",
              "count            73\n",
              "failures         29\n",
              "errors           30\n",
              "skipped           3\n",
              "dtype: int64"
            ]
          },
          "metadata": {
            "tags": []
          },
          "execution_count": 116
        }
      ]
    },
    {
      "cell_type": "code",
      "metadata": {
        "colab": {
          "base_uri": "https://localhost:8080/"
        },
        "id": "18-4aKRPjqwB",
        "outputId": "32b52a07-6a41-457c-868e-847ab3f2dbd1"
      },
      "source": [
        "dt['index'].unique()"
      ],
      "execution_count": null,
      "outputs": [
        {
          "output_type": "execute_result",
          "data": {
            "text/plain": [
              "array([ 0,  1,  2,  3,  4,  5,  6,  7,  8,  9, 10, 11, 12, 13, 14, 15, 16,\n",
              "       17, 18, 19, 20, 21, 22, 23, 24, 25, 26, 27, 28, 29, 30, 31, 32, 33,\n",
              "       34, 35, 36, 37, 38, 39, 40, 41, 42, 43])"
            ]
          },
          "metadata": {
            "tags": []
          },
          "execution_count": 117
        }
      ]
    },
    {
      "cell_type": "code",
      "metadata": {
        "colab": {
          "base_uri": "https://localhost:8080/"
        },
        "id": "hUBl3cZnkDN7",
        "outputId": "16c362e0-2525-4f81-a912-5c05f074cc7e"
      },
      "source": [
        "dt['duration'].unique()"
      ],
      "execution_count": null,
      "outputs": [
        {
          "output_type": "execute_result",
          "data": {
            "text/plain": [
              "array([0.17 , 0.05 , 0.013, ..., 1.391, 1.159, 0.596])"
            ]
          },
          "metadata": {
            "tags": []
          },
          "execution_count": 118
        }
      ]
    },
    {
      "cell_type": "code",
      "metadata": {
        "colab": {
          "base_uri": "https://localhost:8080/"
        },
        "id": "j68fDIOKjM3R",
        "outputId": "6856706d-2819-4b73-ad48-ee763bfaa953"
      },
      "source": [
        "dt['failures'].unique()"
      ],
      "execution_count": null,
      "outputs": [
        {
          "output_type": "execute_result",
          "data": {
            "text/plain": [
              "array([ 1,  0,  6, 11, 18,  4,  2, 17,  7, 34, 12, 19, 31, 22, 24, 66, 16,\n",
              "        5,  9, 43, 14, 25, 36, 27, 15, 20, 10, 28, 21])"
            ]
          },
          "metadata": {
            "tags": []
          },
          "execution_count": 119
        }
      ]
    },
    {
      "cell_type": "code",
      "metadata": {
        "colab": {
          "base_uri": "https://localhost:8080/"
        },
        "id": "U65azJExDlYY",
        "outputId": "8b318bbd-413e-41ad-caff-c05acbecf757"
      },
      "source": [
        "binarized = preprocessing.Binarizer(threshold=1).transform(np.array(dt['failures']).reshape(-1,1))\n",
        "\n",
        "dt['failures'].unique()\n",
        "\n"
      ],
      "execution_count": null,
      "outputs": [
        {
          "output_type": "execute_result",
          "data": {
            "text/plain": [
              "array([ 1,  0,  6, 11, 18,  4,  2, 17,  7, 34, 12, 19, 31, 22, 24, 66, 16,\n",
              "        5,  9, 43, 14, 25, 36, 27, 15, 20, 10, 28, 21])"
            ]
          },
          "metadata": {
            "tags": []
          },
          "execution_count": 120
        }
      ]
    },
    {
      "cell_type": "code",
      "metadata": {
        "colab": {
          "base_uri": "https://localhost:8080/"
        },
        "id": "Vku8ZFSwF-ky",
        "outputId": "7145a334-290c-4f58-f691-5d90ca3f310e"
      },
      "source": [
        "dt['failures'] = binarized\n",
        "\n",
        "dt['failures'].unique()"
      ],
      "execution_count": null,
      "outputs": [
        {
          "output_type": "execute_result",
          "data": {
            "text/plain": [
              "array([0, 1])"
            ]
          },
          "metadata": {
            "tags": []
          },
          "execution_count": 121
        }
      ]
    },
    {
      "cell_type": "code",
      "metadata": {
        "id": "wjJoLjy5kNXu"
      },
      "source": [
        "#corelation = dt.corr()\n",
        "#sns.heatmap(corelation, xticklabels = corelation.columns, yticklabels = corelation.columns, annot = True)\n",
        "#sns.pairplot(dt)\n",
        "#sns.distplot(data['failures'])\n",
        "#sns.distplot(data['count'])\n",
        "#sns.distplot(data['duration'])\n",
        "#sns.catplot(x='failures', kind='box', data=data)"
      ],
      "execution_count": null,
      "outputs": []
    },
    {
      "cell_type": "code",
      "metadata": {
        "colab": {
          "base_uri": "https://localhost:8080/"
        },
        "id": "DJCBRVjTZldm",
        "outputId": "664b6fcd-402c-429f-ac9d-ee19b360e10d"
      },
      "source": [
        "print(len(dt['testName'].unique()))"
      ],
      "execution_count": null,
      "outputs": [
        {
          "output_type": "stream",
          "text": [
            "46\n"
          ],
          "name": "stdout"
        }
      ]
    },
    {
      "cell_type": "code",
      "metadata": {
        "colab": {
          "base_uri": "https://localhost:8080/",
          "height": 222
        },
        "id": "rj72d8n6l70V",
        "outputId": "09bd3017-cc39-49e8-d19f-1bd225c64579"
      },
      "source": [
        "df=pd.DataFrame(dt)\n",
        "\n",
        "ord_enc = OrdinalEncoder()\n",
        "df[\"test_code\"] = ord_enc.fit_transform(df[[\"testName\"]])\n",
        "\n",
        "df.head()"
      ],
      "execution_count": null,
      "outputs": [
        {
          "output_type": "execute_result",
          "data": {
            "text/html": [
              "<div>\n",
              "<style scoped>\n",
              "    .dataframe tbody tr th:only-of-type {\n",
              "        vertical-align: middle;\n",
              "    }\n",
              "\n",
              "    .dataframe tbody tr th {\n",
              "        vertical-align: top;\n",
              "    }\n",
              "\n",
              "    .dataframe thead th {\n",
              "        text-align: right;\n",
              "    }\n",
              "</style>\n",
              "<table border=\"1\" class=\"dataframe\">\n",
              "  <thead>\n",
              "    <tr style=\"text-align: right;\">\n",
              "      <th></th>\n",
              "      <th>travisJobId</th>\n",
              "      <th>testName</th>\n",
              "      <th>index</th>\n",
              "      <th>duration</th>\n",
              "      <th>count</th>\n",
              "      <th>failures</th>\n",
              "      <th>errors</th>\n",
              "      <th>skipped</th>\n",
              "      <th>test_code</th>\n",
              "    </tr>\n",
              "  </thead>\n",
              "  <tbody>\n",
              "    <tr>\n",
              "      <th>0</th>\n",
              "      <td>87853794</td>\n",
              "      <td>de.neuland.jade4j.exceptions.JadeExceptionTest</td>\n",
              "      <td>0</td>\n",
              "      <td>0.170</td>\n",
              "      <td>2</td>\n",
              "      <td>0</td>\n",
              "      <td>0</td>\n",
              "      <td>0</td>\n",
              "      <td>8.0</td>\n",
              "    </tr>\n",
              "    <tr>\n",
              "      <th>1</th>\n",
              "      <td>87853794</td>\n",
              "      <td>de.neuland.jade4j.template.JadeRunFullTemplate...</td>\n",
              "      <td>1</td>\n",
              "      <td>0.050</td>\n",
              "      <td>2</td>\n",
              "      <td>0</td>\n",
              "      <td>0</td>\n",
              "      <td>0</td>\n",
              "      <td>42.0</td>\n",
              "    </tr>\n",
              "    <tr>\n",
              "      <th>2</th>\n",
              "      <td>87853794</td>\n",
              "      <td>de.neuland.jade4j.template.JadeConfigurationTest</td>\n",
              "      <td>2</td>\n",
              "      <td>0.013</td>\n",
              "      <td>5</td>\n",
              "      <td>0</td>\n",
              "      <td>0</td>\n",
              "      <td>0</td>\n",
              "      <td>41.0</td>\n",
              "    </tr>\n",
              "    <tr>\n",
              "      <th>3</th>\n",
              "      <td>87853794</td>\n",
              "      <td>de.neuland.jade4j.model.JadeModelTest</td>\n",
              "      <td>3</td>\n",
              "      <td>0.000</td>\n",
              "      <td>2</td>\n",
              "      <td>0</td>\n",
              "      <td>0</td>\n",
              "      <td>0</td>\n",
              "      <td>25.0</td>\n",
              "    </tr>\n",
              "    <tr>\n",
              "      <th>4</th>\n",
              "      <td>87853794</td>\n",
              "      <td>de.neuland.jade4j.parser.ComplexIndentOutdentP...</td>\n",
              "      <td>4</td>\n",
              "      <td>0.015</td>\n",
              "      <td>1</td>\n",
              "      <td>0</td>\n",
              "      <td>0</td>\n",
              "      <td>0</td>\n",
              "      <td>28.0</td>\n",
              "    </tr>\n",
              "  </tbody>\n",
              "</table>\n",
              "</div>"
            ],
            "text/plain": [
              "   travisJobId  ... test_code\n",
              "0     87853794  ...       8.0\n",
              "1     87853794  ...      42.0\n",
              "2     87853794  ...      41.0\n",
              "3     87853794  ...      25.0\n",
              "4     87853794  ...      28.0\n",
              "\n",
              "[5 rows x 9 columns]"
            ]
          },
          "metadata": {
            "tags": []
          },
          "execution_count": 124
        }
      ]
    },
    {
      "cell_type": "code",
      "metadata": {
        "colab": {
          "base_uri": "https://localhost:8080/",
          "height": 202
        },
        "id": "C5sJMt0IHjFA",
        "outputId": "df573249-a9b1-4551-996e-1f7427313754"
      },
      "source": [
        "input_x = df.drop(['travisJobId','failures', 'testName'], axis = 1)\n",
        "input_x.head()\n"
      ],
      "execution_count": null,
      "outputs": [
        {
          "output_type": "execute_result",
          "data": {
            "text/html": [
              "<div>\n",
              "<style scoped>\n",
              "    .dataframe tbody tr th:only-of-type {\n",
              "        vertical-align: middle;\n",
              "    }\n",
              "\n",
              "    .dataframe tbody tr th {\n",
              "        vertical-align: top;\n",
              "    }\n",
              "\n",
              "    .dataframe thead th {\n",
              "        text-align: right;\n",
              "    }\n",
              "</style>\n",
              "<table border=\"1\" class=\"dataframe\">\n",
              "  <thead>\n",
              "    <tr style=\"text-align: right;\">\n",
              "      <th></th>\n",
              "      <th>index</th>\n",
              "      <th>duration</th>\n",
              "      <th>count</th>\n",
              "      <th>errors</th>\n",
              "      <th>skipped</th>\n",
              "      <th>test_code</th>\n",
              "    </tr>\n",
              "  </thead>\n",
              "  <tbody>\n",
              "    <tr>\n",
              "      <th>0</th>\n",
              "      <td>0</td>\n",
              "      <td>0.170</td>\n",
              "      <td>2</td>\n",
              "      <td>0</td>\n",
              "      <td>0</td>\n",
              "      <td>8.0</td>\n",
              "    </tr>\n",
              "    <tr>\n",
              "      <th>1</th>\n",
              "      <td>1</td>\n",
              "      <td>0.050</td>\n",
              "      <td>2</td>\n",
              "      <td>0</td>\n",
              "      <td>0</td>\n",
              "      <td>42.0</td>\n",
              "    </tr>\n",
              "    <tr>\n",
              "      <th>2</th>\n",
              "      <td>2</td>\n",
              "      <td>0.013</td>\n",
              "      <td>5</td>\n",
              "      <td>0</td>\n",
              "      <td>0</td>\n",
              "      <td>41.0</td>\n",
              "    </tr>\n",
              "    <tr>\n",
              "      <th>3</th>\n",
              "      <td>3</td>\n",
              "      <td>0.000</td>\n",
              "      <td>2</td>\n",
              "      <td>0</td>\n",
              "      <td>0</td>\n",
              "      <td>25.0</td>\n",
              "    </tr>\n",
              "    <tr>\n",
              "      <th>4</th>\n",
              "      <td>4</td>\n",
              "      <td>0.015</td>\n",
              "      <td>1</td>\n",
              "      <td>0</td>\n",
              "      <td>0</td>\n",
              "      <td>28.0</td>\n",
              "    </tr>\n",
              "  </tbody>\n",
              "</table>\n",
              "</div>"
            ],
            "text/plain": [
              "   index  duration  count  errors  skipped  test_code\n",
              "0      0     0.170      2       0        0        8.0\n",
              "1      1     0.050      2       0        0       42.0\n",
              "2      2     0.013      5       0        0       41.0\n",
              "3      3     0.000      2       0        0       25.0\n",
              "4      4     0.015      1       0        0       28.0"
            ]
          },
          "metadata": {
            "tags": []
          },
          "execution_count": 125
        }
      ]
    },
    {
      "cell_type": "code",
      "metadata": {
        "colab": {
          "base_uri": "https://localhost:8080/"
        },
        "id": "G2_-lZMrZldq",
        "outputId": "5e346289-c748-4188-8f18-fd4a3b08f4cb"
      },
      "source": [
        "input_x.isnull().any()"
      ],
      "execution_count": null,
      "outputs": [
        {
          "output_type": "execute_result",
          "data": {
            "text/plain": [
              "index        False\n",
              "duration     False\n",
              "count        False\n",
              "errors       False\n",
              "skipped      False\n",
              "test_code    False\n",
              "dtype: bool"
            ]
          },
          "metadata": {
            "tags": []
          },
          "execution_count": 126
        }
      ]
    },
    {
      "cell_type": "code",
      "metadata": {
        "colab": {
          "base_uri": "https://localhost:8080/"
        },
        "id": "SPFNSaE2KGps",
        "outputId": "b4f3a05e-9387-44b3-fa80-e82a7b053034"
      },
      "source": [
        "output_y = df['failures']\n",
        "output_y.head()"
      ],
      "execution_count": null,
      "outputs": [
        {
          "output_type": "execute_result",
          "data": {
            "text/plain": [
              "0    0\n",
              "1    0\n",
              "2    0\n",
              "3    0\n",
              "4    0\n",
              "Name: failures, dtype: int64"
            ]
          },
          "metadata": {
            "tags": []
          },
          "execution_count": 127
        }
      ]
    },
    {
      "cell_type": "code",
      "metadata": {
        "colab": {
          "base_uri": "https://localhost:8080/"
        },
        "id": "6PJXrwxmM0vz",
        "outputId": "a112db07-b63d-4ff9-93f5-21fc58fd9421"
      },
      "source": [
        "train_x, test_x, train_y, test_y = model_selection.train_test_split(input_x, output_y, test_size=0.7)\n",
        "\n",
        "#print(train_x, test_x, train_y, test_y)\n",
        "\n",
        "print(train_x.shape, test_x.shape, train_y.shape, test_y.shape)\n",
        "\n"
      ],
      "execution_count": null,
      "outputs": [
        {
          "output_type": "stream",
          "text": [
            "(10766, 6) (25121, 6) (10766,) (25121,)\n"
          ],
          "name": "stdout"
        }
      ]
    },
    {
      "cell_type": "code",
      "metadata": {
        "colab": {
          "base_uri": "https://localhost:8080/"
        },
        "id": "slgH6n9GkHps",
        "outputId": "fb404e75-c0b0-4045-ab09-97d60fc0b91a"
      },
      "source": [
        "#Classifier1 \n",
        "clf1 = GaussianNB()\n",
        "clf1.fit(train_x, train_y)\n",
        "predictions1 = clf1.predict(test_x)\n",
        "print(\"\\nAccuracy score \",accuracy_score(test_y, predictions1))\n",
        "print(\"\\nConfusion_matrix\",confusion_matrix(test_y, predictions1))\n",
        "print(\"\\nClassification_report\",classification_report(test_y, predictions1))\n",
        "prob1 = clf1.predict_proba(test_x)\n",
        "# Keeping only the positive class\n",
        "prob1 = [p[1] for p in prob1]\n",
        "print(\"\\nROC score \",roc_auc_score(test_y, prob1))\n",
        "\n",
        "df_proba1 = pd.DataFrame(clf1.predict_proba(test_x), columns=clf1.classes_)\n",
        "df_out1 = pd.merge(df,df_proba1,how = 'left',left_index = True, right_index = True)\n",
        "df_out1.head()\n",
        "\n",
        "dfsort1 = df_out1.sort_values(by=[0,1])\n",
        "print(dfsort1)\n",
        "\n",
        "from google.colab import drive\n",
        "drive.mount('/content/gdrive')\n",
        "\n",
        "dfsort1.to_csv(r'/content/gdrive/MyDrive/Colab Notebooks/SQ/jade4j@nb.csv')"
      ],
      "execution_count": null,
      "outputs": [
        {
          "output_type": "stream",
          "text": [
            "\n",
            "Accuracy score  0.9640937860753951\n",
            "\n",
            "Confusion_matrix [[24119   830]\n",
            " [   72   100]]\n",
            "\n",
            "Classification_report               precision    recall  f1-score   support\n",
            "\n",
            "           0       1.00      0.97      0.98     24949\n",
            "           1       0.11      0.58      0.18       172\n",
            "\n",
            "    accuracy                           0.96     25121\n",
            "   macro avg       0.55      0.77      0.58     25121\n",
            "weighted avg       0.99      0.96      0.98     25121\n",
            "\n",
            "\n",
            "ROC score  0.9056314416292959\n",
            "       travisJobId                                           testName  ...    0    1\n",
            "280       42504092    de.neuland.jade4j.compiler.CompilerTagErrorTest  ...  0.0  1.0\n",
            "489       11749504  de.neuland.jade4j.compiler.CompilerIndentation...  ...  0.0  1.0\n",
            "1781      90260783     de.neuland.jade4j.exceptions.JadeExceptionTest  ...  0.0  1.0\n",
            "2144      90338663              de.neuland.jade4j.lexer.token.TagTest  ...  0.0  1.0\n",
            "2221      42506595   de.neuland.jade4j.parser.LargeBodyTextParserTest  ...  0.0  1.0\n",
            "...            ...                                                ...  ...  ...  ...\n",
            "35882     14243467              de.neuland.jade4j.lexer.token.TagTest  ...  NaN  NaN\n",
            "35883     14243467             de.neuland.jade4j.lexer.token.TextTest  ...  NaN  NaN\n",
            "35884     14243467                   de.neuland.jade4j.lexer.WorkTest  ...  NaN  NaN\n",
            "35885     14243467              de.neuland.jade4j.lexer.JadeLexerTest  ...  NaN  NaN\n",
            "35886     14243467                  de.neuland.jade4j.lexer.LexerTest  ...  NaN  NaN\n",
            "\n",
            "[35887 rows x 11 columns]\n",
            "Drive already mounted at /content/gdrive; to attempt to forcibly remount, call drive.mount(\"/content/gdrive\", force_remount=True).\n"
          ],
          "name": "stdout"
        }
      ]
    },
    {
      "cell_type": "code",
      "metadata": {
        "colab": {
          "base_uri": "https://localhost:8080/"
        },
        "id": "TX3bKHKZkjOY",
        "outputId": "2a8ab27f-3938-43da-c84d-af21da28a294"
      },
      "source": [
        "#Classifier2\n",
        "clf2 = LogisticRegression()\n",
        "clf2.fit(train_x, train_y)\n",
        "predictions2 = clf2.predict(test_x)\n",
        "print(\"\\nAccuracy score \",accuracy_score(test_y, predictions2))\n",
        "print(\"\\nConfusion_matrix\",confusion_matrix(test_y, predictions2))\n",
        "print(\"\\nClassification_report\",classification_report(test_y, predictions2))\n",
        "prob2 = clf2.predict_proba(test_x)\n",
        "# Keeping only the positive class\n",
        "prob2 = [p[1] for p in prob2]\n",
        "print(\"\\nROC score \",roc_auc_score(test_y, prob2))\n",
        "\n",
        "df_proba2 = pd.DataFrame(clf2.predict_proba(test_x), columns=clf2.classes_)\n",
        "df_out2 = pd.merge(df,df_proba2,how = 'left',left_index = True, right_index = True)\n",
        "df_out2.head()\n",
        "\n",
        "dfsort2 = df_out2.sort_values(by=[0,1])\n",
        "print(dfsort2)\n",
        "\n",
        "#from google.colab import drive\n",
        "#drive.mount('/content/gdrive')\n",
        "\n",
        "dfsort2.to_csv(r'/content/gdrive/MyDrive/Colab Notebooks/SQ/jade4j@lr.csv')\n"
      ],
      "execution_count": null,
      "outputs": [
        {
          "output_type": "stream",
          "text": [
            "\n",
            "Accuracy score  0.9963377254090203\n",
            "\n",
            "Confusion_matrix [[24948     1]\n",
            " [   91    81]]\n",
            "\n",
            "Classification_report               precision    recall  f1-score   support\n",
            "\n",
            "           0       1.00      1.00      1.00     24949\n",
            "           1       0.99      0.47      0.64       172\n",
            "\n",
            "    accuracy                           1.00     25121\n",
            "   macro avg       0.99      0.74      0.82     25121\n",
            "weighted avg       1.00      1.00      1.00     25121\n",
            "\n",
            "\n",
            "ROC score  0.90015876574258\n",
            "       travisJobId                                           testName  ...    0    1\n",
            "280       42504092    de.neuland.jade4j.compiler.CompilerTagErrorTest  ...  0.0  1.0\n",
            "489       11749504  de.neuland.jade4j.compiler.CompilerIndentation...  ...  0.0  1.0\n",
            "1781      90260783     de.neuland.jade4j.exceptions.JadeExceptionTest  ...  0.0  1.0\n",
            "2144      90338663              de.neuland.jade4j.lexer.token.TagTest  ...  0.0  1.0\n",
            "2221      42506595   de.neuland.jade4j.parser.LargeBodyTextParserTest  ...  0.0  1.0\n",
            "...            ...                                                ...  ...  ...  ...\n",
            "35882     14243467              de.neuland.jade4j.lexer.token.TagTest  ...  NaN  NaN\n",
            "35883     14243467             de.neuland.jade4j.lexer.token.TextTest  ...  NaN  NaN\n",
            "35884     14243467                   de.neuland.jade4j.lexer.WorkTest  ...  NaN  NaN\n",
            "35885     14243467              de.neuland.jade4j.lexer.JadeLexerTest  ...  NaN  NaN\n",
            "35886     14243467                  de.neuland.jade4j.lexer.LexerTest  ...  NaN  NaN\n",
            "\n",
            "[35887 rows x 11 columns]\n"
          ],
          "name": "stdout"
        }
      ]
    },
    {
      "cell_type": "code",
      "metadata": {
        "colab": {
          "base_uri": "https://localhost:8080/"
        },
        "id": "2o6k4yIXmync",
        "outputId": "43d6c683-4f17-42fd-a047-93307621db2f"
      },
      "source": [
        "#Classifier3\n",
        "clf3 = RandomForestClassifier()\n",
        "clf3.fit(train_x, train_y)\n",
        "predictions3 = clf3.predict(test_x)\n",
        "print(\"\\nAccuracy score \",accuracy_score(test_y, predictions3))\n",
        "print(\"\\nConfusion_matrix\",confusion_matrix(test_y, predictions3))\n",
        "print(\"\\nClassification_report\",classification_report(test_y, predictions3))\n",
        "prob3 = clf3.predict_proba(test_x)\n",
        "# Keeping only the positive class\n",
        "prob3 = [p[1] for p in prob3]\n",
        "print(\"\\nROC score \",roc_auc_score(test_y, prob3))\n",
        "\n",
        "df_proba3 = pd.DataFrame(clf3.predict_proba(test_x), columns=clf3.classes_)\n",
        "df_out3 = pd.merge(df,df_proba3,how = 'left',left_index = True, right_index = True)\n",
        "df_out3.head()\n",
        "\n",
        "dfsort3 = df_out3.sort_values(by=[0,1])\n",
        "print(dfsort3)\n",
        "\n",
        "dfsort3.to_csv(r'/content/gdrive/MyDrive/Colab Notebooks/SQ/jade4j@rf.csv')"
      ],
      "execution_count": null,
      "outputs": [
        {
          "output_type": "stream",
          "text": [
            "\n",
            "Accuracy score  0.9979300187094463\n",
            "\n",
            "Confusion_matrix [[24942     7]\n",
            " [   45   127]]\n",
            "\n",
            "Classification_report               precision    recall  f1-score   support\n",
            "\n",
            "           0       1.00      1.00      1.00     24949\n",
            "           1       0.95      0.74      0.83       172\n",
            "\n",
            "    accuracy                           1.00     25121\n",
            "   macro avg       0.97      0.87      0.91     25121\n",
            "weighted avg       1.00      1.00      1.00     25121\n",
            "\n",
            "\n",
            "ROC score  0.954392076114343\n",
            "       travisJobId                                           testName  ...    0    1\n",
            "280       42504092    de.neuland.jade4j.compiler.CompilerTagErrorTest  ...  0.0  1.0\n",
            "489       11749504  de.neuland.jade4j.compiler.CompilerIndentation...  ...  0.0  1.0\n",
            "1781      90260783     de.neuland.jade4j.exceptions.JadeExceptionTest  ...  0.0  1.0\n",
            "2144      90338663              de.neuland.jade4j.lexer.token.TagTest  ...  0.0  1.0\n",
            "2982      93791899           de.neuland.jade4j.lexer.token.ForTagTest  ...  0.0  1.0\n",
            "...            ...                                                ...  ...  ...  ...\n",
            "35882     14243467              de.neuland.jade4j.lexer.token.TagTest  ...  NaN  NaN\n",
            "35883     14243467             de.neuland.jade4j.lexer.token.TextTest  ...  NaN  NaN\n",
            "35884     14243467                   de.neuland.jade4j.lexer.WorkTest  ...  NaN  NaN\n",
            "35885     14243467              de.neuland.jade4j.lexer.JadeLexerTest  ...  NaN  NaN\n",
            "35886     14243467                  de.neuland.jade4j.lexer.LexerTest  ...  NaN  NaN\n",
            "\n",
            "[35887 rows x 11 columns]\n"
          ],
          "name": "stdout"
        }
      ]
    }
  ]
}